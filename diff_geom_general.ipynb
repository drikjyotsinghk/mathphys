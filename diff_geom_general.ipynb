{
  "nbformat": 4,
  "nbformat_minor": 0,
  "metadata": {
    "colab": {
      "provenance": [],
      "authorship_tag": "ABX9TyOYX3bobOtgQvNzV7+g4JtN",
      "include_colab_link": true
    },
    "kernelspec": {
      "name": "python3",
      "display_name": "Python 3"
    },
    "language_info": {
      "name": "python"
    }
  },
  "cells": [
    {
      "cell_type": "markdown",
      "metadata": {
        "id": "view-in-github",
        "colab_type": "text"
      },
      "source": [
        "<a href=\"https://colab.research.google.com/github/drikjyotsinghk/mathphys/blob/main/diff_geom_general.ipynb\" target=\"_parent\"><img src=\"https://colab.research.google.com/assets/colab-badge.svg\" alt=\"Open In Colab\"/></a>"
      ]
    },
    {
      "cell_type": "code",
      "execution_count": null,
      "metadata": {
        "id": "5GUqEC-epYLd"
      },
      "outputs": [],
      "source": [
        "import sympy as sp"
      ]
    },
    {
      "cell_type": "code",
      "source": [
        "def Gamma(coords,g):\n",
        "  g_inv = g.inv()\n",
        "\n",
        "  Gamma_list = sp.MutableDenseNDimArray.zeros(4, 4, 4)\n",
        "  for m in range(4):\n",
        "      for i in range(4):\n",
        "          for j in range(i, 4):  # Use symmetry: Gamma[m, i, j] == Gamma[m, j, i]\n",
        "              Gamma_list[m, i, j] = 0.5 * sum([g_inv[m, k] * (sp.diff(g[k, i], coords[j]) + sp.diff(g[k, j], coords[i]) - sp.diff(g[i, j], coords[k])) for k in range(4)])\n",
        "              if i != j:\n",
        "                  Gamma_list[m, j, i] = Gamma_list[m, i, j]\n",
        "\n",
        "  return Gamma_list"
      ],
      "metadata": {
        "id": "iqm1hr7RptXt"
      },
      "execution_count": null,
      "outputs": []
    },
    {
      "cell_type": "code",
      "source": [
        "#Much more efficient to exploit symmetries in Riemann tensor (See: https://en.wikipedia.org/wiki/Riemann_curvature_tensor#Symmetries_and_identities)\n",
        "def Riemann(Gamma,coords):\n",
        "  Riemann_tensor = sp.MutableDenseNDimArray.zeros(4, 4, 4, 4)\n",
        "  for p in range(4):\n",
        "      for s in range(4):\n",
        "          for m in range(4):\n",
        "              for n in range(m, 4):  # Use symmetry: R^i_{jkl} = -R^i_{jlk}\n",
        "                  term1 = sp.diff(Gamma[p, n, s], coords[m]) - sp.diff(Gamma[p, m, s], coords[n])\n",
        "                  term2 = sum([Gamma[p, m, l] * Gamma[l, n, s] - Gamma[p, n, l] * Gamma[l, m, s] for l in range(4)])\n",
        "                  Riemann_tensor[p, s, m, n] = term1 + term2\n",
        "                  if m != n:\n",
        "                      Riemann_tensor[p, s, n, m] = -Riemann_tensor[p, s, m, n]\n",
        "\n",
        "  return sp.simplify(Riemann_tensor)"
      ],
      "metadata": {
        "id": "kuq3W8oZqVpV"
      },
      "execution_count": null,
      "outputs": []
    },
    {
      "cell_type": "code",
      "source": [
        "def Ricci(Riemann):\n",
        "  Ricci_tensor = sp.MutableDenseNDimArray.zeros(4, 4)\n",
        "  for a in range(4):\n",
        "      for b in range(4):\n",
        "          Ricci_tensor[a, b] = sum([Riemann[c, a, c, b] for c in range(4)])\n",
        "  return sp.simplify(Ricci_tensor)"
      ],
      "metadata": {
        "id": "YaGlu3_wq5Y-"
      },
      "execution_count": null,
      "outputs": []
    },
    {
      "cell_type": "code",
      "source": [
        "def Ricci_scalar(Ricci, g):\n",
        "  g_inv = g.inv()\n",
        "  Ricci_s = sum([Ricci[i, i] * g_inv[i, i] for i in range(4)])\n",
        "  return sp.simplify(Ricci_s)"
      ],
      "metadata": {
        "id": "7rbTG_L0rWKs"
      },
      "execution_count": null,
      "outputs": []
    },
    {
      "cell_type": "code",
      "source": [
        "def Riemann_contra(g,Riemann_tensor):\n",
        "  # Raise the indices of the Riemann tensor\n",
        "  g_inv = g.inv()\n",
        "  Riemann_raised = sp.MutableDenseNDimArray.zeros(4, 4, 4, 4)\n",
        "  for i in range(4):\n",
        "      for j in range(4):\n",
        "          for k in range(4):\n",
        "              for l in range(4):\n",
        "                  Riemann_raised[i,j,k,l] = sum([g_inv[j,b] * g_inv[k,c] * g_inv[l,d] * Riemann_tensor[i,j,k,l] for b in range(4) for c in range(4) for d in range(4)])\n",
        "\n",
        "  return Riemann_raised"
      ],
      "metadata": {
        "id": "8-1QTKeRrfx3"
      },
      "execution_count": null,
      "outputs": []
    },
    {
      "cell_type": "code",
      "source": [
        "def Riemann_cov(g, Riemann_tensor):\n",
        "  Riemann_lowered = sp.MutableDenseNDimArray.zeros(4, 4, 4, 4)\n",
        "  for i in range(4):\n",
        "      for j in range(4):\n",
        "          for k in range(4):\n",
        "              for l in range(4):\n",
        "                  Riemann_lowered[i, j, k, l] = sum([g[i,a] * Riemann_tensor[i, j, k, l] for a in range(4)])\n",
        "\n",
        "  return Riemann_lowered"
      ],
      "metadata": {
        "id": "jC7u6_Ykrqn5"
      },
      "execution_count": null,
      "outputs": []
    },
    {
      "cell_type": "code",
      "source": [
        "def Kscalar(Riemann_contra,Riemann_cov):\n",
        "  Kretschmann_scalar = sum([Riemann_contra[i, j, k, l] * Riemann_cov[i, j, k, l] for i in range(4) for j in range(4) for k in range(4) for l in range(4)])\n",
        "  return sp.simplify(Kretschmann_scalar)"
      ],
      "metadata": {
        "id": "rdjK0u3jsC-O"
      },
      "execution_count": null,
      "outputs": []
    },
    {
      "cell_type": "code",
      "source": [
        "def weyl_tensor(Riemann_l, Ricci_ten, Ricci_sc, g):\n",
        "    weyl_result = sp.MutableDenseNDimArray.zeros(4, 4, 4, 4)\n",
        "    for i in range(4):\n",
        "        for k in range(4):\n",
        "            for l in range(4):\n",
        "                for m in range(4):\n",
        "                    weyl_result[i,k,l,m] = Riemann_l[i,k,l,m] + (1/2)*(Ricci_ten[i,m]*g[k,l] - Ricci_ten[i,l]*g[k,m] - Ricci_ten[k,l]*g[i,m] - Ricci_ten[k,m]*g[i,l]) + (1/6)*Ricci_sc*(g[i,l]*g[k,m]-g[i,m]*g[k,l])\n",
        "    return weyl_result\n"
      ],
      "metadata": {
        "id": "3-UIwIxMa2-f"
      },
      "execution_count": null,
      "outputs": []
    },
    {
      "cell_type": "code",
      "source": [
        "#first define coordinates\n",
        "#S-metric in S-coords\n",
        "\n",
        "t, r, theta, phi = sp.symbols('t r theta phi')\n",
        "coords = [t, r, theta, phi]\n",
        "\n",
        "M = sp.Symbol('M')\n",
        "g = sp.zeros(4, 4)\n",
        "g[0, 0] = -(1 - 2 * M / r)\n",
        "g[1, 1] = 1 / (1 - 2 * M / r)\n",
        "g[2, 2] = r**2\n",
        "g[3, 3] = r**2 * sp.sin(theta)**2\n",
        "\n",
        "Gamma_result = Gamma(coords,g)\n",
        "Riemann_result = Riemann(Gamma_result,coords)\n",
        "Ricci_result = Ricci(Riemann_result)\n",
        "Ricci_scalar_result = Ricci_scalar(Ricci_result,g)\n",
        "Riemann_contra_result = Riemann_contra(g,Riemann_result)\n",
        "Riemann_cov_result = Riemann_cov(g,Riemann_result)\n",
        "Kscalar_result = Kscalar(Riemann_contra_result,Riemann_cov_result)\n",
        "weyl_tensor_result = weyl_tensor(Riemann_cov_result, Ricci_result, Ricci_scalar_result, g)\n",
        "\n",
        "#just as an example\n",
        "print(\"Metric tensor:\")\n",
        "sp.pprint(g)\n",
        "print(\"Ricci scalar:\")\n",
        "print(Ricci_scalar_result)\n",
        "print(\"Krestschmann Scalar:\")\n",
        "print(Kscalar_result)\n",
        "print(\"Weyl Tensor:\")\n",
        "print(weyl_tensor_result)"
      ],
      "metadata": {
        "colab": {
          "base_uri": "https://localhost:8080/"
        },
        "id": "xrEIAHzQsSIo",
        "outputId": "29834c8e-26cf-4181-9ede-7881078a6138"
      },
      "execution_count": null,
      "outputs": [
        {
          "output_type": "stream",
          "name": "stdout",
          "text": [
            "⎡2⋅M                               ⎤\n",
            "⎢─── - 1      0      0       0     ⎥\n",
            "⎢ r                                ⎥\n",
            "⎢                                  ⎥\n",
            "⎢             1                    ⎥\n",
            "⎢   0     ─────────  0       0     ⎥\n",
            "⎢           2⋅M                    ⎥\n",
            "⎢         - ─── + 1                ⎥\n",
            "⎢            r                     ⎥\n",
            "⎢                                  ⎥\n",
            "⎢                     2            ⎥\n",
            "⎢   0         0      r       0     ⎥\n",
            "⎢                                  ⎥\n",
            "⎢                         2    2   ⎥\n",
            "⎣   0         0      0   r ⋅sin (θ)⎦\n",
            "Ricci scalar:\n",
            "0\n",
            "Krestschmann Scalar:\n",
            "48.0*M**2/r**6\n",
            "Weyl Tensor:\n",
            "[[[[0, 0, 0, 0], [0, 0, 0, 0], [0, 0, 0, 0], [0, 0, 0, 0]], [[0, -2.0*M*(2*M/r - 1)/(r**2*(2*M - r)), 0, 0], [2.0*M*(2*M/r - 1)/(r**2*(2*M - r)), 0, 0, 0], [0, 0, 0, 0], [0, 0, 0, 0]], [[0, 0, -1.0*M*(2*M/r - 1)/r, 0], [0, 0, 0, 0], [1.0*M*(2*M/r - 1)/r, 0, 0, 0], [0, 0, 0, 0]], [[0, 0, 0, -1.0*M*(2*M/r - 1)*sin(theta)**2/r], [0, 0, 0, 0], [0, 0, 0, 0], [1.0*M*(2*M/r - 1)*sin(theta)**2/r, 0, 0, 0]]], [[[0, -2.0*M*(2*M - r)/(r**4*(-2*M/r + 1)), 0, 0], [2.0*M*(2*M - r)/(r**4*(-2*M/r + 1)), 0, 0, 0], [0, 0, 0, 0], [0, 0, 0, 0]], [[0, 0, 0, 0], [0, 0, 0, 0], [0, 0, 0, 0], [0, 0, 0, 0]], [[0, 0, 0, 0], [0, 0, -1.0*M/(r*(-2*M/r + 1)), 0], [0, 1.0*M/(r*(-2*M/r + 1)), 0, 0], [0, 0, 0, 0]], [[0, 0, 0, 0], [0, 0, 0, -1.0*M*sin(theta)**2/(r*(-2*M/r + 1))], [0, 0, 0, 0], [0, 1.0*M*sin(theta)**2/(r*(-2*M/r + 1)), 0, 0]]], [[[0, 0, 1.0*M*(2*M - r)/r**2, 0], [0, 0, 0, 0], [-1.0*M*(2*M - r)/r**2, 0, 0, 0], [0, 0, 0, 0]], [[0, 0, 0, 0], [0, 0, -1.0*M/(2*M - r), 0], [0, 1.0*M/(2*M - r), 0, 0], [0, 0, 0, 0]], [[0, 0, 0, 0], [0, 0, 0, 0], [0, 0, 0, 0], [0, 0, 0, 0]], [[0, 0, 0, 0], [0, 0, 0, 0], [0, 0, 0, 2.0*M*r*sin(theta)**2], [0, 0, -2.0*M*r*sin(theta)**2, 0]]], [[[0, 0, 0, 1.0*M*(2*M - r)*sin(theta)**2/r**2], [0, 0, 0, 0], [0, 0, 0, 0], [-1.0*M*(2*M - r)*sin(theta)**2/r**2, 0, 0, 0]], [[0, 0, 0, 0], [0, 0, 0, -1.0*M*sin(theta)**2/(2*M - r)], [0, 0, 0, 0], [0, 1.0*M*sin(theta)**2/(2*M - r), 0, 0]], [[0, 0, 0, 0], [0, 0, 0, 0], [0, 0, 0, -2.0*M*r*sin(theta)**2], [0, 0, 2.0*M*r*sin(theta)**2, 0]], [[0, 0, 0, 0], [0, 0, 0, 0], [0, 0, 0, 0], [0, 0, 0, 0]]]]\n"
          ]
        }
      ]
    },
    {
      "cell_type": "code",
      "source": [],
      "metadata": {
        "id": "IvUjkufOsfRx"
      },
      "execution_count": null,
      "outputs": []
    },
    {
      "cell_type": "code",
      "source": [
        "print(Ricci)"
      ],
      "metadata": {
        "colab": {
          "base_uri": "https://localhost:8080/"
        },
        "id": "Wi6dK30-sm3Y",
        "outputId": "a6f3e9df-085f-45a9-a702-c57b06d0c8ca"
      },
      "execution_count": null,
      "outputs": [
        {
          "output_type": "stream",
          "name": "stdout",
          "text": [
            "[[0, 0, 0, 0], [0, 0, 0, 0], [0, 0, 0, 0], [0, 0, 0, 0]]\n"
          ]
        }
      ]
    },
    {
      "cell_type": "code",
      "source": [
        "#first define coordinates\n",
        "#S-metric in Kruskal Coordinates\n",
        "\n",
        "u, v, theta, phi = sp.symbols('u v theta phi')\n",
        "coords = [u, v, theta, phi]\n",
        "\n",
        "r = sp.Function('r')(u,v)\n",
        "\n",
        "M = sp.Symbol('M')\n",
        "g = sp.zeros(4, 4)\n",
        "g[0, 0] = -((32*M**3)/r)*sp.exp(-r/(2*M))\n",
        "g[1, 1] = ((32*M**3)/r)*sp.exp(-r/(2*M))\n",
        "g[2, 2] = r**2\n",
        "g[3, 3] = r**2 * sp.sin(theta)**2\n",
        "\n",
        "Gamma_result = Gamma(coords,g)\n",
        "Riemann_result = Riemann(Gamma_result,coords)\n",
        "Ricci_result = Ricci(Riemann_result)\n",
        "Ricci_scalar_result = Ricci_scalar(Ricci_result,g)\n",
        "Riemann_contra_result = Riemann_contra(g,Riemann_result)\n",
        "Riemann_cov_result = Riemann_cov(g,Riemann_result)\n",
        "Kscalar_result = Kscalar(Riemann_contra_result,Riemann_cov_result)\n",
        "weyl_tensor_result = weyl_tensor(Riemann_cov_result, Ricci_result, Ricci_scalar_result, g)\n",
        "\n",
        "#just as an example\n",
        "print(\"Metric tensor:\")\n",
        "sp.pprint(g)\n",
        "print(\"Ricci scalar:\")\n",
        "print(Ricci_scalar_result)\n",
        "print(\"Krestschmann Scalar:\")\n",
        "print(Kscalar_result)\n",
        "print(\"Weyl Tensor:\")\n",
        "print(weyl_tensor_result)"
      ],
      "metadata": {
        "colab": {
          "base_uri": "https://localhost:8080/"
        },
        "id": "ZnLAjFhHuH3Z",
        "outputId": "0dfaae4b-b5e4-4ebc-9f33-fb0419550444"
      },
      "execution_count": null,
      "outputs": [
        {
          "output_type": "stream",
          "name": "stdout",
          "text": [
            "Metric tensor:\n",
            "⎡        -r(u, v)                                                ⎤\n",
            "⎢        ─────────                                               ⎥\n",
            "⎢     3     2⋅M                                                  ⎥\n",
            "⎢-32⋅M ⋅ℯ                                                        ⎥\n",
            "⎢──────────────────         0             0             0        ⎥\n",
            "⎢     r(u, v)                                                    ⎥\n",
            "⎢                                                                ⎥\n",
            "⎢                           -r(u, v)                             ⎥\n",
            "⎢                           ─────────                            ⎥\n",
            "⎢                        3     2⋅M                               ⎥\n",
            "⎢                    32⋅M ⋅ℯ                                     ⎥\n",
            "⎢        0           ────────────────     0             0        ⎥\n",
            "⎢                        r(u, v)                                 ⎥\n",
            "⎢                                                                ⎥\n",
            "⎢                                       2                        ⎥\n",
            "⎢        0                  0          r (u, v)         0        ⎥\n",
            "⎢                                                                ⎥\n",
            "⎢                                                 2          2   ⎥\n",
            "⎣        0                  0             0      r (u, v)⋅sin (θ)⎦\n",
            "Ricci scalar:\n",
            "2.0/r(u, v)**2 + 0.09375*exp(r(u, v)/(2*M))*Derivative(r(u, v), (u, 2))/M**3 - 0.09375*exp(r(u, v)/(2*M))*Derivative(r(u, v), (v, 2))/M**3 + 0.09375*exp(r(u, v)/(2*M))*Derivative(r(u, v), u)**2/(M**3*r(u, v)) - 0.09375*exp(r(u, v)/(2*M))*Derivative(r(u, v), v)**2/(M**3*r(u, v)) - 0.015625*r(u, v)*exp(r(u, v)/(2*M))*Derivative(r(u, v), (u, 2))/M**4 + 0.015625*r(u, v)*exp(r(u, v)/(2*M))*Derivative(r(u, v), (v, 2))/M**4\n",
            "Krestschmann Scalar:\n",
            "(1024*M**2*(1.0*M**3 + 0.03125*r(u, v)*exp(r(u, v)/(2*M))*Derivative(r(u, v), u)**2 - 0.03125*r(u, v)*exp(r(u, v)/(2*M))*Derivative(r(u, v), v)**2)**2 + 0.25*(M*(-Derivative(r(u, v), u)**2 + Derivative(r(u, v), v)**2) + M*(Derivative(r(u, v), (u, 2)) - Derivative(r(u, v), (v, 2)))*r(u, v) + 0.5*(Derivative(r(u, v), (u, 2)) - Derivative(r(u, v), (v, 2)))*r(u, v)**2)**2*r(u, v)**2*exp(r(u, v)/M) + (-2.0*(M*(r(u, v)*Derivative(r(u, v), u, v) + Derivative(r(u, v), u)*Derivative(r(u, v), v)) + 0.5*r(u, v)*Derivative(r(u, v), u)*Derivative(r(u, v), v))**2 + (1.0*M*r(u, v)*Derivative(r(u, v), (u, 2)) + 0.25*(2*M + r(u, v))*(Derivative(r(u, v), u)**2 + Derivative(r(u, v), v)**2))**2 + (1.0*M*r(u, v)*Derivative(r(u, v), (v, 2)) + 0.25*(2*M + r(u, v))*(Derivative(r(u, v), u)**2 + Derivative(r(u, v), v)**2))**2 - 2*(1.0*M*r(u, v)*Derivative(r(u, v), u, v) + 0.5*(2*M + r(u, v))*Derivative(r(u, v), u)*Derivative(r(u, v), v))**2 + (M*(r(u, v)*Derivative(r(u, v), (u, 2)) + Derivative(r(u, v), u)**2) - 0.25*(2*M + r(u, v))*(Derivative(r(u, v), u)**2 - Derivative(r(u, v), v)**2) + 0.5*r(u, v)*Derivative(r(u, v), u)**2)**2 + (M*(r(u, v)*Derivative(r(u, v), (v, 2)) + Derivative(r(u, v), v)**2) + 0.25*(2*M + r(u, v))*(Derivative(r(u, v), u)**2 - Derivative(r(u, v), v)**2) + 0.5*r(u, v)*Derivative(r(u, v), v)**2)**2)*r(u, v)**2*exp(r(u, v)/M))/(256*M**8*r(u, v)**4)\n",
            "Weyl Tensor:\n",
            "[[[[32.0*M**2*(0.5*M*(-Derivative(r(u, v), u)**2 + Derivative(r(u, v), v)**2) + 0.5*M*(Derivative(r(u, v), (u, 2)) - Derivative(r(u, v), (v, 2)))*r(u, v) - 2.0*M*r(u, v)*Derivative(r(u, v), (u, 2)) - 0.5*(2*M + r(u, v))*(Derivative(r(u, v), u)**2 + Derivative(r(u, v), v)**2) + 0.25*(Derivative(r(u, v), (u, 2)) - Derivative(r(u, v), (v, 2)))*r(u, v)**2)*exp(-r(u, v)/(2*M))/r(u, v)**3, 0, 0, 0], [32.0*M**2*(-2.0*M*r(u, v)*Derivative(r(u, v), u, v) - 1.0*(2*M + r(u, v))*Derivative(r(u, v), u)*Derivative(r(u, v), v))*exp(-r(u, v)/(2*M))/r(u, v)**3, 0, 0, 0], [0, 0, 0, 0], [0, 0, 0, 0]], [[32.0*M**2*(-2.0*M*r(u, v)*Derivative(r(u, v), u, v) - 1.0*(2*M + r(u, v))*Derivative(r(u, v), u)*Derivative(r(u, v), v))*exp(-r(u, v)/(2*M))/r(u, v)**3, -1024*M**6*(0.333333333333333/r(u, v)**2 + 0.015625*exp(r(u, v)/(2*M))*Derivative(r(u, v), (u, 2))/M**3 - 0.015625*exp(r(u, v)/(2*M))*Derivative(r(u, v), (v, 2))/M**3 + 0.015625*exp(r(u, v)/(2*M))*Derivative(r(u, v), u)**2/(M**3*r(u, v)) - 0.015625*exp(r(u, v)/(2*M))*Derivative(r(u, v), v)**2/(M**3*r(u, v)) - 0.00260416666666667*r(u, v)*exp(r(u, v)/(2*M))*Derivative(r(u, v), (u, 2))/M**4 + 0.00260416666666667*r(u, v)*exp(r(u, v)/(2*M))*Derivative(r(u, v), (v, 2))/M**4)*exp(-r(u, v)/M)/r(u, v)**2 - 32*M**3*(-0.5*Derivative(r(u, v), (u, 2))/r(u, v) + 0.5*Derivative(r(u, v), (v, 2))/r(u, v) + 0.5*Derivative(r(u, v), u)**2/r(u, v)**2 - 0.5*Derivative(r(u, v), v)**2/r(u, v)**2 - 0.25*Derivative(r(u, v), (u, 2))/M + 0.25*Derivative(r(u, v), (v, 2))/M)*exp(-r(u, v)/(2*M))/r(u, v) - 16.0*M**2*(0.5*M*(-Derivative(r(u, v), u)**2 + Derivative(r(u, v), v)**2) + 0.5*M*(Derivative(r(u, v), (u, 2)) - Derivative(r(u, v), (v, 2)))*r(u, v) - 2.0*M*r(u, v)*Derivative(r(u, v), (u, 2)) - 0.5*(2*M + r(u, v))*(Derivative(r(u, v), u)**2 + Derivative(r(u, v), v)**2) + 0.25*(Derivative(r(u, v), (u, 2)) - Derivative(r(u, v), (v, 2)))*r(u, v)**2)*exp(-r(u, v)/(2*M))/r(u, v)**3 + 16.0*M**2*(0.5*M*(Derivative(r(u, v), u)**2 - Derivative(r(u, v), v)**2) + 0.5*M*(-Derivative(r(u, v), (u, 2)) + Derivative(r(u, v), (v, 2)))*r(u, v) - 2.0*M*r(u, v)*Derivative(r(u, v), (v, 2)) - 0.5*(2*M + r(u, v))*(Derivative(r(u, v), u)**2 + Derivative(r(u, v), v)**2) + 0.25*(-Derivative(r(u, v), (u, 2)) + Derivative(r(u, v), (v, 2)))*r(u, v)**2)*exp(-r(u, v)/(2*M))/r(u, v)**3, 0, 0], [1024*M**6*(0.333333333333333/r(u, v)**2 + 0.015625*exp(r(u, v)/(2*M))*Derivative(r(u, v), (u, 2))/M**3 - 0.015625*exp(r(u, v)/(2*M))*Derivative(r(u, v), (v, 2))/M**3 + 0.015625*exp(r(u, v)/(2*M))*Derivative(r(u, v), u)**2/(M**3*r(u, v)) - 0.015625*exp(r(u, v)/(2*M))*Derivative(r(u, v), v)**2/(M**3*r(u, v)) - 0.00260416666666667*r(u, v)*exp(r(u, v)/(2*M))*Derivative(r(u, v), (u, 2))/M**4 + 0.00260416666666667*r(u, v)*exp(r(u, v)/(2*M))*Derivative(r(u, v), (v, 2))/M**4)*exp(-r(u, v)/M)/r(u, v)**2 - 32*M**3*(0.5*Derivative(r(u, v), (u, 2))/r(u, v) - 0.5*Derivative(r(u, v), (v, 2))/r(u, v) - 0.5*Derivative(r(u, v), u)**2/r(u, v)**2 + 0.5*Derivative(r(u, v), v)**2/r(u, v)**2 + 0.25*Derivative(r(u, v), (u, 2))/M - 0.25*Derivative(r(u, v), (v, 2))/M)*exp(-r(u, v)/(2*M))/r(u, v) + 16.0*M**2*(0.5*M*(-Derivative(r(u, v), u)**2 + Derivative(r(u, v), v)**2) + 0.5*M*(Derivative(r(u, v), (u, 2)) - Derivative(r(u, v), (v, 2)))*r(u, v) - 2.0*M*r(u, v)*Derivative(r(u, v), (u, 2)) - 0.5*(2*M + r(u, v))*(Derivative(r(u, v), u)**2 + Derivative(r(u, v), v)**2) + 0.25*(Derivative(r(u, v), (u, 2)) - Derivative(r(u, v), (v, 2)))*r(u, v)**2)*exp(-r(u, v)/(2*M))/r(u, v)**3 + 16.0*M**2*(0.5*M*(Derivative(r(u, v), u)**2 - Derivative(r(u, v), v)**2) + 0.5*M*(-Derivative(r(u, v), (u, 2)) + Derivative(r(u, v), (v, 2)))*r(u, v) - 2.0*M*r(u, v)*Derivative(r(u, v), (v, 2)) - 0.5*(2*M + r(u, v))*(Derivative(r(u, v), u)**2 + Derivative(r(u, v), v)**2) + 0.25*(-Derivative(r(u, v), (u, 2)) + Derivative(r(u, v), (v, 2)))*r(u, v)**2)*exp(-r(u, v)/(2*M))/r(u, v)**3, 0, 0, 0], [0, 0, 0, 0], [0, 0, 0, 0]], [[0, 0, -32*M**3*(0.333333333333333/r(u, v)**2 + 0.015625*exp(r(u, v)/(2*M))*Derivative(r(u, v), (u, 2))/M**3 - 0.015625*exp(r(u, v)/(2*M))*Derivative(r(u, v), (v, 2))/M**3 + 0.015625*exp(r(u, v)/(2*M))*Derivative(r(u, v), u)**2/(M**3*r(u, v)) - 0.015625*exp(r(u, v)/(2*M))*Derivative(r(u, v), v)**2/(M**3*r(u, v)) - 0.00260416666666667*r(u, v)*exp(r(u, v)/(2*M))*Derivative(r(u, v), (u, 2))/M**4 + 0.00260416666666667*r(u, v)*exp(r(u, v)/(2*M))*Derivative(r(u, v), (v, 2))/M**4)*r(u, v)*exp(-r(u, v)/(2*M)) + 16.0*(1.0*M**3 + 0.03125*r(u, v)**2*exp(r(u, v)/(2*M))*Derivative(r(u, v), (u, 2)) - 0.03125*r(u, v)**2*exp(r(u, v)/(2*M))*Derivative(r(u, v), (v, 2)) + 0.03125*r(u, v)*exp(r(u, v)/(2*M))*Derivative(r(u, v), u)**2 - 0.03125*r(u, v)*exp(r(u, v)/(2*M))*Derivative(r(u, v), v)**2)*exp(-r(u, v)/(2*M))/r(u, v) - 32*(0.03125*M*(r(u, v)*Derivative(r(u, v), (u, 2)) + Derivative(r(u, v), u)**2) + 0.0078125*(2*M + r(u, v))*(-Derivative(r(u, v), u)**2 + Derivative(r(u, v), v)**2) + 0.015625*r(u, v)*Derivative(r(u, v), u)**2)/M - 0.5*(0.5*M*(-Derivative(r(u, v), u)**2 + Derivative(r(u, v), v)**2) + 0.5*M*(Derivative(r(u, v), (u, 2)) - Derivative(r(u, v), (v, 2)))*r(u, v) - 2.0*M*r(u, v)*Derivative(r(u, v), (u, 2)) - 0.5*(2*M + r(u, v))*(Derivative(r(u, v), u)**2 + Derivative(r(u, v), v)**2) + 0.25*(Derivative(r(u, v), (u, 2)) - Derivative(r(u, v), (v, 2)))*r(u, v)**2)/M, 0], [0, 0, -32*(0.03125*M*(r(u, v)*Derivative(r(u, v), u, v) + Derivative(r(u, v), u)*Derivative(r(u, v), v)) + 0.015625*r(u, v)*Derivative(r(u, v), u)*Derivative(r(u, v), v))/M - 0.5*(-2.0*M*r(u, v)*Derivative(r(u, v), u, v) - 1.0*(2*M + r(u, v))*Derivative(r(u, v), u)*Derivative(r(u, v), v))/M, 0], [32*M**3*(0.333333333333333/r(u, v)**2 + 0.015625*exp(r(u, v)/(2*M))*Derivative(r(u, v), (u, 2))/M**3 - 0.015625*exp(r(u, v)/(2*M))*Derivative(r(u, v), (v, 2))/M**3 + 0.015625*exp(r(u, v)/(2*M))*Derivative(r(u, v), u)**2/(M**3*r(u, v)) - 0.015625*exp(r(u, v)/(2*M))*Derivative(r(u, v), v)**2/(M**3*r(u, v)) - 0.00260416666666667*r(u, v)*exp(r(u, v)/(2*M))*Derivative(r(u, v), (u, 2))/M**4 + 0.00260416666666667*r(u, v)*exp(r(u, v)/(2*M))*Derivative(r(u, v), (v, 2))/M**4)*r(u, v)*exp(-r(u, v)/(2*M)) + 16.0*(1.0*M**3 + 0.03125*r(u, v)**2*exp(r(u, v)/(2*M))*Derivative(r(u, v), (u, 2)) - 0.03125*r(u, v)**2*exp(r(u, v)/(2*M))*Derivative(r(u, v), (v, 2)) + 0.03125*r(u, v)*exp(r(u, v)/(2*M))*Derivative(r(u, v), u)**2 - 0.03125*r(u, v)*exp(r(u, v)/(2*M))*Derivative(r(u, v), v)**2)*exp(-r(u, v)/(2*M))/r(u, v) - 32*(-0.03125*M*(r(u, v)*Derivative(r(u, v), (u, 2)) + Derivative(r(u, v), u)**2) + 0.0078125*(2*M + r(u, v))*(Derivative(r(u, v), u)**2 - Derivative(r(u, v), v)**2) - 0.015625*r(u, v)*Derivative(r(u, v), u)**2)/M + 0.5*(0.5*M*(-Derivative(r(u, v), u)**2 + Derivative(r(u, v), v)**2) + 0.5*M*(Derivative(r(u, v), (u, 2)) - Derivative(r(u, v), (v, 2)))*r(u, v) - 2.0*M*r(u, v)*Derivative(r(u, v), (u, 2)) - 0.5*(2*M + r(u, v))*(Derivative(r(u, v), u)**2 + Derivative(r(u, v), v)**2) + 0.25*(Derivative(r(u, v), (u, 2)) - Derivative(r(u, v), (v, 2)))*r(u, v)**2)/M, -32*(0.03125*M*(-r(u, v)*Derivative(r(u, v), u, v) - Derivative(r(u, v), u)*Derivative(r(u, v), v)) - 0.015625*r(u, v)*Derivative(r(u, v), u)*Derivative(r(u, v), v))/M + 0.5*(-2.0*M*r(u, v)*Derivative(r(u, v), u, v) - 1.0*(2*M + r(u, v))*Derivative(r(u, v), u)*Derivative(r(u, v), v))/M, 0, 0], [0, 0, 0, 0]], [[0, 0, 0, -32*M**3*(0.333333333333333/r(u, v)**2 + 0.015625*exp(r(u, v)/(2*M))*Derivative(r(u, v), (u, 2))/M**3 - 0.015625*exp(r(u, v)/(2*M))*Derivative(r(u, v), (v, 2))/M**3 + 0.015625*exp(r(u, v)/(2*M))*Derivative(r(u, v), u)**2/(M**3*r(u, v)) - 0.015625*exp(r(u, v)/(2*M))*Derivative(r(u, v), v)**2/(M**3*r(u, v)) - 0.00260416666666667*r(u, v)*exp(r(u, v)/(2*M))*Derivative(r(u, v), (u, 2))/M**4 + 0.00260416666666667*r(u, v)*exp(r(u, v)/(2*M))*Derivative(r(u, v), (v, 2))/M**4)*r(u, v)*exp(-r(u, v)/(2*M))*sin(theta)**2 + 16.0*(1.0*M**3 + 0.03125*r(u, v)**2*exp(r(u, v)/(2*M))*Derivative(r(u, v), (u, 2)) - 0.03125*r(u, v)**2*exp(r(u, v)/(2*M))*Derivative(r(u, v), (v, 2)) + 0.03125*r(u, v)*exp(r(u, v)/(2*M))*Derivative(r(u, v), u)**2 - 0.03125*r(u, v)*exp(r(u, v)/(2*M))*Derivative(r(u, v), v)**2)*exp(-r(u, v)/(2*M))*sin(theta)**2/r(u, v) - 32*(0.03125*M*(r(u, v)*Derivative(r(u, v), (u, 2)) + Derivative(r(u, v), u)**2) + 0.0078125*(2*M + r(u, v))*(-Derivative(r(u, v), u)**2 + Derivative(r(u, v), v)**2) + 0.015625*r(u, v)*Derivative(r(u, v), u)**2)*sin(theta)**2/M - 0.5*(0.5*M*(-Derivative(r(u, v), u)**2 + Derivative(r(u, v), v)**2) + 0.5*M*(Derivative(r(u, v), (u, 2)) - Derivative(r(u, v), (v, 2)))*r(u, v) - 2.0*M*r(u, v)*Derivative(r(u, v), (u, 2)) - 0.5*(2*M + r(u, v))*(Derivative(r(u, v), u)**2 + Derivative(r(u, v), v)**2) + 0.25*(Derivative(r(u, v), (u, 2)) - Derivative(r(u, v), (v, 2)))*r(u, v)**2)*sin(theta)**2/M], [0, 0, 0, -32*(0.03125*M*(r(u, v)*Derivative(r(u, v), u, v) + Derivative(r(u, v), u)*Derivative(r(u, v), v)) + 0.015625*r(u, v)*Derivative(r(u, v), u)*Derivative(r(u, v), v))*sin(theta)**2/M - 0.5*(-2.0*M*r(u, v)*Derivative(r(u, v), u, v) - 1.0*(2*M + r(u, v))*Derivative(r(u, v), u)*Derivative(r(u, v), v))*sin(theta)**2/M], [0, 0, 0, 0], [32*M**3*(0.333333333333333/r(u, v)**2 + 0.015625*exp(r(u, v)/(2*M))*Derivative(r(u, v), (u, 2))/M**3 - 0.015625*exp(r(u, v)/(2*M))*Derivative(r(u, v), (v, 2))/M**3 + 0.015625*exp(r(u, v)/(2*M))*Derivative(r(u, v), u)**2/(M**3*r(u, v)) - 0.015625*exp(r(u, v)/(2*M))*Derivative(r(u, v), v)**2/(M**3*r(u, v)) - 0.00260416666666667*r(u, v)*exp(r(u, v)/(2*M))*Derivative(r(u, v), (u, 2))/M**4 + 0.00260416666666667*r(u, v)*exp(r(u, v)/(2*M))*Derivative(r(u, v), (v, 2))/M**4)*r(u, v)*exp(-r(u, v)/(2*M))*sin(theta)**2 + 16.0*(1.0*M**3 + 0.03125*r(u, v)**2*exp(r(u, v)/(2*M))*Derivative(r(u, v), (u, 2)) - 0.03125*r(u, v)**2*exp(r(u, v)/(2*M))*Derivative(r(u, v), (v, 2)) + 0.03125*r(u, v)*exp(r(u, v)/(2*M))*Derivative(r(u, v), u)**2 - 0.03125*r(u, v)*exp(r(u, v)/(2*M))*Derivative(r(u, v), v)**2)*exp(-r(u, v)/(2*M))*sin(theta)**2/r(u, v) - 32*(-0.03125*M*(r(u, v)*Derivative(r(u, v), (u, 2)) + Derivative(r(u, v), u)**2) + 0.0078125*(2*M + r(u, v))*(Derivative(r(u, v), u)**2 - Derivative(r(u, v), v)**2) - 0.015625*r(u, v)*Derivative(r(u, v), u)**2)*sin(theta)**2/M + 0.5*(0.5*M*(-Derivative(r(u, v), u)**2 + Derivative(r(u, v), v)**2) + 0.5*M*(Derivative(r(u, v), (u, 2)) - Derivative(r(u, v), (v, 2)))*r(u, v) - 2.0*M*r(u, v)*Derivative(r(u, v), (u, 2)) - 0.5*(2*M + r(u, v))*(Derivative(r(u, v), u)**2 + Derivative(r(u, v), v)**2) + 0.25*(Derivative(r(u, v), (u, 2)) - Derivative(r(u, v), (v, 2)))*r(u, v)**2)*sin(theta)**2/M, -32*(0.03125*M*(-r(u, v)*Derivative(r(u, v), u, v) - Derivative(r(u, v), u)*Derivative(r(u, v), v)) - 0.015625*r(u, v)*Derivative(r(u, v), u)*Derivative(r(u, v), v))*sin(theta)**2/M + 0.5*(-2.0*M*r(u, v)*Derivative(r(u, v), u, v) - 1.0*(2*M + r(u, v))*Derivative(r(u, v), u)*Derivative(r(u, v), v))*sin(theta)**2/M, 0, 0]]], [[[0, 1024*M**6*(0.333333333333333/r(u, v)**2 + 0.015625*exp(r(u, v)/(2*M))*Derivative(r(u, v), (u, 2))/M**3 - 0.015625*exp(r(u, v)/(2*M))*Derivative(r(u, v), (v, 2))/M**3 + 0.015625*exp(r(u, v)/(2*M))*Derivative(r(u, v), u)**2/(M**3*r(u, v)) - 0.015625*exp(r(u, v)/(2*M))*Derivative(r(u, v), v)**2/(M**3*r(u, v)) - 0.00260416666666667*r(u, v)*exp(r(u, v)/(2*M))*Derivative(r(u, v), (u, 2))/M**4 + 0.00260416666666667*r(u, v)*exp(r(u, v)/(2*M))*Derivative(r(u, v), (v, 2))/M**4)*exp(-r(u, v)/M)/r(u, v)**2 + 32*M**3*(-0.5*Derivative(r(u, v), (u, 2))/r(u, v) + 0.5*Derivative(r(u, v), (v, 2))/r(u, v) + 0.5*Derivative(r(u, v), u)**2/r(u, v)**2 - 0.5*Derivative(r(u, v), v)**2/r(u, v)**2 - 0.25*Derivative(r(u, v), (u, 2))/M + 0.25*Derivative(r(u, v), (v, 2))/M)*exp(-r(u, v)/(2*M))/r(u, v) - 16.0*M**2*(0.5*M*(-Derivative(r(u, v), u)**2 + Derivative(r(u, v), v)**2) + 0.5*M*(Derivative(r(u, v), (u, 2)) - Derivative(r(u, v), (v, 2)))*r(u, v) - 2.0*M*r(u, v)*Derivative(r(u, v), (u, 2)) - 0.5*(2*M + r(u, v))*(Derivative(r(u, v), u)**2 + Derivative(r(u, v), v)**2) + 0.25*(Derivative(r(u, v), (u, 2)) - Derivative(r(u, v), (v, 2)))*r(u, v)**2)*exp(-r(u, v)/(2*M))/r(u, v)**3 - 16.0*M**2*(0.5*M*(Derivative(r(u, v), u)**2 - Derivative(r(u, v), v)**2) + 0.5*M*(-Derivative(r(u, v), (u, 2)) + Derivative(r(u, v), (v, 2)))*r(u, v) - 2.0*M*r(u, v)*Derivative(r(u, v), (v, 2)) - 0.5*(2*M + r(u, v))*(Derivative(r(u, v), u)**2 + Derivative(r(u, v), v)**2) + 0.25*(-Derivative(r(u, v), (u, 2)) + Derivative(r(u, v), (v, 2)))*r(u, v)**2)*exp(-r(u, v)/(2*M))/r(u, v)**3, 0, 0], [-1024*M**6*(0.333333333333333/r(u, v)**2 + 0.015625*exp(r(u, v)/(2*M))*Derivative(r(u, v), (u, 2))/M**3 - 0.015625*exp(r(u, v)/(2*M))*Derivative(r(u, v), (v, 2))/M**3 + 0.015625*exp(r(u, v)/(2*M))*Derivative(r(u, v), u)**2/(M**3*r(u, v)) - 0.015625*exp(r(u, v)/(2*M))*Derivative(r(u, v), v)**2/(M**3*r(u, v)) - 0.00260416666666667*r(u, v)*exp(r(u, v)/(2*M))*Derivative(r(u, v), (u, 2))/M**4 + 0.00260416666666667*r(u, v)*exp(r(u, v)/(2*M))*Derivative(r(u, v), (v, 2))/M**4)*exp(-r(u, v)/M)/r(u, v)**2 + 32*M**3*(0.5*Derivative(r(u, v), (u, 2))/r(u, v) - 0.5*Derivative(r(u, v), (v, 2))/r(u, v) - 0.5*Derivative(r(u, v), u)**2/r(u, v)**2 + 0.5*Derivative(r(u, v), v)**2/r(u, v)**2 + 0.25*Derivative(r(u, v), (u, 2))/M - 0.25*Derivative(r(u, v), (v, 2))/M)*exp(-r(u, v)/(2*M))/r(u, v) - 16.0*M**2*(0.5*M*(-Derivative(r(u, v), u)**2 + Derivative(r(u, v), v)**2) + 0.5*M*(Derivative(r(u, v), (u, 2)) - Derivative(r(u, v), (v, 2)))*r(u, v) - 2.0*M*r(u, v)*Derivative(r(u, v), (u, 2)) - 0.5*(2*M + r(u, v))*(Derivative(r(u, v), u)**2 + Derivative(r(u, v), v)**2) + 0.25*(Derivative(r(u, v), (u, 2)) - Derivative(r(u, v), (v, 2)))*r(u, v)**2)*exp(-r(u, v)/(2*M))/r(u, v)**3 + 16.0*M**2*(0.5*M*(Derivative(r(u, v), u)**2 - Derivative(r(u, v), v)**2) + 0.5*M*(-Derivative(r(u, v), (u, 2)) + Derivative(r(u, v), (v, 2)))*r(u, v) - 2.0*M*r(u, v)*Derivative(r(u, v), (v, 2)) - 0.5*(2*M + r(u, v))*(Derivative(r(u, v), u)**2 + Derivative(r(u, v), v)**2) + 0.25*(-Derivative(r(u, v), (u, 2)) + Derivative(r(u, v), (v, 2)))*r(u, v)**2)*exp(-r(u, v)/(2*M))/r(u, v)**3, -32.0*M**2*(-2.0*M*r(u, v)*Derivative(r(u, v), u, v) - 1.0*(2*M + r(u, v))*Derivative(r(u, v), u)*Derivative(r(u, v), v))*exp(-r(u, v)/(2*M))/r(u, v)**3, 0, 0], [0, 0, 0, 0], [0, 0, 0, 0]], [[0, -32.0*M**2*(-2.0*M*r(u, v)*Derivative(r(u, v), u, v) - 1.0*(2*M + r(u, v))*Derivative(r(u, v), u)*Derivative(r(u, v), v))*exp(-r(u, v)/(2*M))/r(u, v)**3, 0, 0], [0, -32.0*M**2*(0.5*M*(Derivative(r(u, v), u)**2 - Derivative(r(u, v), v)**2) + 0.5*M*(-Derivative(r(u, v), (u, 2)) + Derivative(r(u, v), (v, 2)))*r(u, v) - 2.0*M*r(u, v)*Derivative(r(u, v), (v, 2)) - 0.5*(2*M + r(u, v))*(Derivative(r(u, v), u)**2 + Derivative(r(u, v), v)**2) + 0.25*(-Derivative(r(u, v), (u, 2)) + Derivative(r(u, v), (v, 2)))*r(u, v)**2)*exp(-r(u, v)/(2*M))/r(u, v)**3, 0, 0], [0, 0, 0, 0], [0, 0, 0, 0]], [[0, 0, 32*(0.03125*M*(-r(u, v)*Derivative(r(u, v), u, v) - Derivative(r(u, v), u)*Derivative(r(u, v), v)) - 0.015625*r(u, v)*Derivative(r(u, v), u)*Derivative(r(u, v), v))/M - 0.5*(-2.0*M*r(u, v)*Derivative(r(u, v), u, v) - 1.0*(2*M + r(u, v))*Derivative(r(u, v), u)*Derivative(r(u, v), v))/M, 0], [0, 0, 32*M**3*(0.333333333333333/r(u, v)**2 + 0.015625*exp(r(u, v)/(2*M))*Derivative(r(u, v), (u, 2))/M**3 - 0.015625*exp(r(u, v)/(2*M))*Derivative(r(u, v), (v, 2))/M**3 + 0.015625*exp(r(u, v)/(2*M))*Derivative(r(u, v), u)**2/(M**3*r(u, v)) - 0.015625*exp(r(u, v)/(2*M))*Derivative(r(u, v), v)**2/(M**3*r(u, v)) - 0.00260416666666667*r(u, v)*exp(r(u, v)/(2*M))*Derivative(r(u, v), (u, 2))/M**4 + 0.00260416666666667*r(u, v)*exp(r(u, v)/(2*M))*Derivative(r(u, v), (v, 2))/M**4)*r(u, v)*exp(-r(u, v)/(2*M)) - 16.0*(1.0*M**3 + 0.03125*r(u, v)**2*exp(r(u, v)/(2*M))*Derivative(r(u, v), (u, 2)) - 0.03125*r(u, v)**2*exp(r(u, v)/(2*M))*Derivative(r(u, v), (v, 2)) + 0.03125*r(u, v)*exp(r(u, v)/(2*M))*Derivative(r(u, v), u)**2 - 0.03125*r(u, v)*exp(r(u, v)/(2*M))*Derivative(r(u, v), v)**2)*exp(-r(u, v)/(2*M))/r(u, v) + 32*(-0.03125*M*(r(u, v)*Derivative(r(u, v), (v, 2)) + Derivative(r(u, v), v)**2) + 0.0078125*(2*M + r(u, v))*(-Derivative(r(u, v), u)**2 + Derivative(r(u, v), v)**2) - 0.015625*r(u, v)*Derivative(r(u, v), v)**2)/M - 0.5*(0.5*M*(Derivative(r(u, v), u)**2 - Derivative(r(u, v), v)**2) + 0.5*M*(-Derivative(r(u, v), (u, 2)) + Derivative(r(u, v), (v, 2)))*r(u, v) - 2.0*M*r(u, v)*Derivative(r(u, v), (v, 2)) - 0.5*(2*M + r(u, v))*(Derivative(r(u, v), u)**2 + Derivative(r(u, v), v)**2) + 0.25*(-Derivative(r(u, v), (u, 2)) + Derivative(r(u, v), (v, 2)))*r(u, v)**2)/M, 0], [32*(0.03125*M*(r(u, v)*Derivative(r(u, v), u, v) + Derivative(r(u, v), u)*Derivative(r(u, v), v)) + 0.015625*r(u, v)*Derivative(r(u, v), u)*Derivative(r(u, v), v))/M + 0.5*(-2.0*M*r(u, v)*Derivative(r(u, v), u, v) - 1.0*(2*M + r(u, v))*Derivative(r(u, v), u)*Derivative(r(u, v), v))/M, -32*M**3*(0.333333333333333/r(u, v)**2 + 0.015625*exp(r(u, v)/(2*M))*Derivative(r(u, v), (u, 2))/M**3 - 0.015625*exp(r(u, v)/(2*M))*Derivative(r(u, v), (v, 2))/M**3 + 0.015625*exp(r(u, v)/(2*M))*Derivative(r(u, v), u)**2/(M**3*r(u, v)) - 0.015625*exp(r(u, v)/(2*M))*Derivative(r(u, v), v)**2/(M**3*r(u, v)) - 0.00260416666666667*r(u, v)*exp(r(u, v)/(2*M))*Derivative(r(u, v), (u, 2))/M**4 + 0.00260416666666667*r(u, v)*exp(r(u, v)/(2*M))*Derivative(r(u, v), (v, 2))/M**4)*r(u, v)*exp(-r(u, v)/(2*M)) - 16.0*(1.0*M**3 + 0.03125*r(u, v)**2*exp(r(u, v)/(2*M))*Derivative(r(u, v), (u, 2)) - 0.03125*r(u, v)**2*exp(r(u, v)/(2*M))*Derivative(r(u, v), (v, 2)) + 0.03125*r(u, v)*exp(r(u, v)/(2*M))*Derivative(r(u, v), u)**2 - 0.03125*r(u, v)*exp(r(u, v)/(2*M))*Derivative(r(u, v), v)**2)*exp(-r(u, v)/(2*M))/r(u, v) + 32*(0.03125*M*(r(u, v)*Derivative(r(u, v), (v, 2)) + Derivative(r(u, v), v)**2) + 0.0078125*(2*M + r(u, v))*(Derivative(r(u, v), u)**2 - Derivative(r(u, v), v)**2) + 0.015625*r(u, v)*Derivative(r(u, v), v)**2)/M + 0.5*(0.5*M*(Derivative(r(u, v), u)**2 - Derivative(r(u, v), v)**2) + 0.5*M*(-Derivative(r(u, v), (u, 2)) + Derivative(r(u, v), (v, 2)))*r(u, v) - 2.0*M*r(u, v)*Derivative(r(u, v), (v, 2)) - 0.5*(2*M + r(u, v))*(Derivative(r(u, v), u)**2 + Derivative(r(u, v), v)**2) + 0.25*(-Derivative(r(u, v), (u, 2)) + Derivative(r(u, v), (v, 2)))*r(u, v)**2)/M, 0, 0], [0, 0, 0, 0]], [[0, 0, 0, 32*(0.03125*M*(-r(u, v)*Derivative(r(u, v), u, v) - Derivative(r(u, v), u)*Derivative(r(u, v), v)) - 0.015625*r(u, v)*Derivative(r(u, v), u)*Derivative(r(u, v), v))*sin(theta)**2/M - 0.5*(-2.0*M*r(u, v)*Derivative(r(u, v), u, v) - 1.0*(2*M + r(u, v))*Derivative(r(u, v), u)*Derivative(r(u, v), v))*sin(theta)**2/M], [0, 0, 0, 32*M**3*(0.333333333333333/r(u, v)**2 + 0.015625*exp(r(u, v)/(2*M))*Derivative(r(u, v), (u, 2))/M**3 - 0.015625*exp(r(u, v)/(2*M))*Derivative(r(u, v), (v, 2))/M**3 + 0.015625*exp(r(u, v)/(2*M))*Derivative(r(u, v), u)**2/(M**3*r(u, v)) - 0.015625*exp(r(u, v)/(2*M))*Derivative(r(u, v), v)**2/(M**3*r(u, v)) - 0.00260416666666667*r(u, v)*exp(r(u, v)/(2*M))*Derivative(r(u, v), (u, 2))/M**4 + 0.00260416666666667*r(u, v)*exp(r(u, v)/(2*M))*Derivative(r(u, v), (v, 2))/M**4)*r(u, v)*exp(-r(u, v)/(2*M))*sin(theta)**2 - 16.0*(1.0*M**3 + 0.03125*r(u, v)**2*exp(r(u, v)/(2*M))*Derivative(r(u, v), (u, 2)) - 0.03125*r(u, v)**2*exp(r(u, v)/(2*M))*Derivative(r(u, v), (v, 2)) + 0.03125*r(u, v)*exp(r(u, v)/(2*M))*Derivative(r(u, v), u)**2 - 0.03125*r(u, v)*exp(r(u, v)/(2*M))*Derivative(r(u, v), v)**2)*exp(-r(u, v)/(2*M))*sin(theta)**2/r(u, v) + 32*(-0.03125*M*(r(u, v)*Derivative(r(u, v), (v, 2)) + Derivative(r(u, v), v)**2) + 0.0078125*(2*M + r(u, v))*(-Derivative(r(u, v), u)**2 + Derivative(r(u, v), v)**2) - 0.015625*r(u, v)*Derivative(r(u, v), v)**2)*sin(theta)**2/M - 0.5*(0.5*M*(Derivative(r(u, v), u)**2 - Derivative(r(u, v), v)**2) + 0.5*M*(-Derivative(r(u, v), (u, 2)) + Derivative(r(u, v), (v, 2)))*r(u, v) - 2.0*M*r(u, v)*Derivative(r(u, v), (v, 2)) - 0.5*(2*M + r(u, v))*(Derivative(r(u, v), u)**2 + Derivative(r(u, v), v)**2) + 0.25*(-Derivative(r(u, v), (u, 2)) + Derivative(r(u, v), (v, 2)))*r(u, v)**2)*sin(theta)**2/M], [0, 0, 0, 0], [32*(0.03125*M*(r(u, v)*Derivative(r(u, v), u, v) + Derivative(r(u, v), u)*Derivative(r(u, v), v)) + 0.015625*r(u, v)*Derivative(r(u, v), u)*Derivative(r(u, v), v))*sin(theta)**2/M + 0.5*(-2.0*M*r(u, v)*Derivative(r(u, v), u, v) - 1.0*(2*M + r(u, v))*Derivative(r(u, v), u)*Derivative(r(u, v), v))*sin(theta)**2/M, -32*M**3*(0.333333333333333/r(u, v)**2 + 0.015625*exp(r(u, v)/(2*M))*Derivative(r(u, v), (u, 2))/M**3 - 0.015625*exp(r(u, v)/(2*M))*Derivative(r(u, v), (v, 2))/M**3 + 0.015625*exp(r(u, v)/(2*M))*Derivative(r(u, v), u)**2/(M**3*r(u, v)) - 0.015625*exp(r(u, v)/(2*M))*Derivative(r(u, v), v)**2/(M**3*r(u, v)) - 0.00260416666666667*r(u, v)*exp(r(u, v)/(2*M))*Derivative(r(u, v), (u, 2))/M**4 + 0.00260416666666667*r(u, v)*exp(r(u, v)/(2*M))*Derivative(r(u, v), (v, 2))/M**4)*r(u, v)*exp(-r(u, v)/(2*M))*sin(theta)**2 - 16.0*(1.0*M**3 + 0.03125*r(u, v)**2*exp(r(u, v)/(2*M))*Derivative(r(u, v), (u, 2)) - 0.03125*r(u, v)**2*exp(r(u, v)/(2*M))*Derivative(r(u, v), (v, 2)) + 0.03125*r(u, v)*exp(r(u, v)/(2*M))*Derivative(r(u, v), u)**2 - 0.03125*r(u, v)*exp(r(u, v)/(2*M))*Derivative(r(u, v), v)**2)*exp(-r(u, v)/(2*M))*sin(theta)**2/r(u, v) + 32*(0.03125*M*(r(u, v)*Derivative(r(u, v), (v, 2)) + Derivative(r(u, v), v)**2) + 0.0078125*(2*M + r(u, v))*(Derivative(r(u, v), u)**2 - Derivative(r(u, v), v)**2) + 0.015625*r(u, v)*Derivative(r(u, v), v)**2)*sin(theta)**2/M + 0.5*(0.5*M*(Derivative(r(u, v), u)**2 - Derivative(r(u, v), v)**2) + 0.5*M*(-Derivative(r(u, v), (u, 2)) + Derivative(r(u, v), (v, 2)))*r(u, v) - 2.0*M*r(u, v)*Derivative(r(u, v), (v, 2)) - 0.5*(2*M + r(u, v))*(Derivative(r(u, v), u)**2 + Derivative(r(u, v), v)**2) + 0.25*(-Derivative(r(u, v), (u, 2)) + Derivative(r(u, v), (v, 2)))*r(u, v)**2)*sin(theta)**2/M, 0, 0]]], [[[0, 0, 32*M**3*(0.333333333333333/r(u, v)**2 + 0.015625*exp(r(u, v)/(2*M))*Derivative(r(u, v), (u, 2))/M**3 - 0.015625*exp(r(u, v)/(2*M))*Derivative(r(u, v), (v, 2))/M**3 + 0.015625*exp(r(u, v)/(2*M))*Derivative(r(u, v), u)**2/(M**3*r(u, v)) - 0.015625*exp(r(u, v)/(2*M))*Derivative(r(u, v), v)**2/(M**3*r(u, v)) - 0.00260416666666667*r(u, v)*exp(r(u, v)/(2*M))*Derivative(r(u, v), (u, 2))/M**4 + 0.00260416666666667*r(u, v)*exp(r(u, v)/(2*M))*Derivative(r(u, v), (v, 2))/M**4)*r(u, v)*exp(-r(u, v)/(2*M)) - 16.0*(1.0*M**3 + 0.03125*r(u, v)**2*exp(r(u, v)/(2*M))*Derivative(r(u, v), (u, 2)) - 0.03125*r(u, v)**2*exp(r(u, v)/(2*M))*Derivative(r(u, v), (v, 2)) + 0.03125*r(u, v)*exp(r(u, v)/(2*M))*Derivative(r(u, v), u)**2 - 0.03125*r(u, v)*exp(r(u, v)/(2*M))*Derivative(r(u, v), v)**2)*exp(-r(u, v)/(2*M))/r(u, v) + (1.0*M*r(u, v)*Derivative(r(u, v), (u, 2)) + 0.25*(2*M + r(u, v))*(Derivative(r(u, v), u)**2 + Derivative(r(u, v), v)**2))/M - 0.5*(0.5*M*(-Derivative(r(u, v), u)**2 + Derivative(r(u, v), v)**2) + 0.5*M*(Derivative(r(u, v), (u, 2)) - Derivative(r(u, v), (v, 2)))*r(u, v) - 2.0*M*r(u, v)*Derivative(r(u, v), (u, 2)) - 0.5*(2*M + r(u, v))*(Derivative(r(u, v), u)**2 + Derivative(r(u, v), v)**2) + 0.25*(Derivative(r(u, v), (u, 2)) - Derivative(r(u, v), (v, 2)))*r(u, v)**2)/M, 0], [0, 0, -0.5*(-2.0*M*r(u, v)*Derivative(r(u, v), u, v) - 1.0*(2*M + r(u, v))*Derivative(r(u, v), u)*Derivative(r(u, v), v))/M + (1.0*M*r(u, v)*Derivative(r(u, v), u, v) + 0.5*(2*M + r(u, v))*Derivative(r(u, v), u)*Derivative(r(u, v), v))/M, 0], [-32*M**3*(0.333333333333333/r(u, v)**2 + 0.015625*exp(r(u, v)/(2*M))*Derivative(r(u, v), (u, 2))/M**3 - 0.015625*exp(r(u, v)/(2*M))*Derivative(r(u, v), (v, 2))/M**3 + 0.015625*exp(r(u, v)/(2*M))*Derivative(r(u, v), u)**2/(M**3*r(u, v)) - 0.015625*exp(r(u, v)/(2*M))*Derivative(r(u, v), v)**2/(M**3*r(u, v)) - 0.00260416666666667*r(u, v)*exp(r(u, v)/(2*M))*Derivative(r(u, v), (u, 2))/M**4 + 0.00260416666666667*r(u, v)*exp(r(u, v)/(2*M))*Derivative(r(u, v), (v, 2))/M**4)*r(u, v)*exp(-r(u, v)/(2*M)) + 16.0*(1.0*M**3 + 0.03125*r(u, v)**2*exp(r(u, v)/(2*M))*Derivative(r(u, v), (u, 2)) - 0.03125*r(u, v)**2*exp(r(u, v)/(2*M))*Derivative(r(u, v), (v, 2)) + 0.03125*r(u, v)*exp(r(u, v)/(2*M))*Derivative(r(u, v), u)**2 - 0.03125*r(u, v)*exp(r(u, v)/(2*M))*Derivative(r(u, v), v)**2)*exp(-r(u, v)/(2*M))/r(u, v) + (-1.0*M*r(u, v)*Derivative(r(u, v), (u, 2)) + 0.25*(2*M + r(u, v))*(-Derivative(r(u, v), u)**2 - Derivative(r(u, v), v)**2))/M - 0.5*(0.5*M*(-Derivative(r(u, v), u)**2 + Derivative(r(u, v), v)**2) + 0.5*M*(Derivative(r(u, v), (u, 2)) - Derivative(r(u, v), (v, 2)))*r(u, v) - 2.0*M*r(u, v)*Derivative(r(u, v), (u, 2)) - 0.5*(2*M + r(u, v))*(Derivative(r(u, v), u)**2 + Derivative(r(u, v), v)**2) + 0.25*(Derivative(r(u, v), (u, 2)) - Derivative(r(u, v), (v, 2)))*r(u, v)**2)/M, -0.5*(-2.0*M*r(u, v)*Derivative(r(u, v), u, v) - 1.0*(2*M + r(u, v))*Derivative(r(u, v), u)*Derivative(r(u, v), v))/M + (-1.0*M*r(u, v)*Derivative(r(u, v), u, v) - 0.5*(2*M + r(u, v))*Derivative(r(u, v), u)*Derivative(r(u, v), v))/M, 0, 0], [0, 0, 0, 0]], [[0, 0, -0.5*(-2.0*M*r(u, v)*Derivative(r(u, v), u, v) - 1.0*(2*M + r(u, v))*Derivative(r(u, v), u)*Derivative(r(u, v), v))/M + (1.0*M*r(u, v)*Derivative(r(u, v), u, v) + 0.5*(2*M + r(u, v))*Derivative(r(u, v), u)*Derivative(r(u, v), v))/M, 0], [0, 0, -32*M**3*(0.333333333333333/r(u, v)**2 + 0.015625*exp(r(u, v)/(2*M))*Derivative(r(u, v), (u, 2))/M**3 - 0.015625*exp(r(u, v)/(2*M))*Derivative(r(u, v), (v, 2))/M**3 + 0.015625*exp(r(u, v)/(2*M))*Derivative(r(u, v), u)**2/(M**3*r(u, v)) - 0.015625*exp(r(u, v)/(2*M))*Derivative(r(u, v), v)**2/(M**3*r(u, v)) - 0.00260416666666667*r(u, v)*exp(r(u, v)/(2*M))*Derivative(r(u, v), (u, 2))/M**4 + 0.00260416666666667*r(u, v)*exp(r(u, v)/(2*M))*Derivative(r(u, v), (v, 2))/M**4)*r(u, v)*exp(-r(u, v)/(2*M)) + 16.0*(1.0*M**3 + 0.03125*r(u, v)**2*exp(r(u, v)/(2*M))*Derivative(r(u, v), (u, 2)) - 0.03125*r(u, v)**2*exp(r(u, v)/(2*M))*Derivative(r(u, v), (v, 2)) + 0.03125*r(u, v)*exp(r(u, v)/(2*M))*Derivative(r(u, v), u)**2 - 0.03125*r(u, v)*exp(r(u, v)/(2*M))*Derivative(r(u, v), v)**2)*exp(-r(u, v)/(2*M))/r(u, v) + (1.0*M*r(u, v)*Derivative(r(u, v), (v, 2)) + 0.25*(2*M + r(u, v))*(Derivative(r(u, v), u)**2 + Derivative(r(u, v), v)**2))/M - 0.5*(0.5*M*(Derivative(r(u, v), u)**2 - Derivative(r(u, v), v)**2) + 0.5*M*(-Derivative(r(u, v), (u, 2)) + Derivative(r(u, v), (v, 2)))*r(u, v) - 2.0*M*r(u, v)*Derivative(r(u, v), (v, 2)) - 0.5*(2*M + r(u, v))*(Derivative(r(u, v), u)**2 + Derivative(r(u, v), v)**2) + 0.25*(-Derivative(r(u, v), (u, 2)) + Derivative(r(u, v), (v, 2)))*r(u, v)**2)/M, 0], [-0.5*(-2.0*M*r(u, v)*Derivative(r(u, v), u, v) - 1.0*(2*M + r(u, v))*Derivative(r(u, v), u)*Derivative(r(u, v), v))/M + (-1.0*M*r(u, v)*Derivative(r(u, v), u, v) - 0.5*(2*M + r(u, v))*Derivative(r(u, v), u)*Derivative(r(u, v), v))/M, 32*M**3*(0.333333333333333/r(u, v)**2 + 0.015625*exp(r(u, v)/(2*M))*Derivative(r(u, v), (u, 2))/M**3 - 0.015625*exp(r(u, v)/(2*M))*Derivative(r(u, v), (v, 2))/M**3 + 0.015625*exp(r(u, v)/(2*M))*Derivative(r(u, v), u)**2/(M**3*r(u, v)) - 0.015625*exp(r(u, v)/(2*M))*Derivative(r(u, v), v)**2/(M**3*r(u, v)) - 0.00260416666666667*r(u, v)*exp(r(u, v)/(2*M))*Derivative(r(u, v), (u, 2))/M**4 + 0.00260416666666667*r(u, v)*exp(r(u, v)/(2*M))*Derivative(r(u, v), (v, 2))/M**4)*r(u, v)*exp(-r(u, v)/(2*M)) - 16.0*(1.0*M**3 + 0.03125*r(u, v)**2*exp(r(u, v)/(2*M))*Derivative(r(u, v), (u, 2)) - 0.03125*r(u, v)**2*exp(r(u, v)/(2*M))*Derivative(r(u, v), (v, 2)) + 0.03125*r(u, v)*exp(r(u, v)/(2*M))*Derivative(r(u, v), u)**2 - 0.03125*r(u, v)*exp(r(u, v)/(2*M))*Derivative(r(u, v), v)**2)*exp(-r(u, v)/(2*M))/r(u, v) + (-1.0*M*r(u, v)*Derivative(r(u, v), (v, 2)) + 0.25*(2*M + r(u, v))*(-Derivative(r(u, v), u)**2 - Derivative(r(u, v), v)**2))/M - 0.5*(0.5*M*(Derivative(r(u, v), u)**2 - Derivative(r(u, v), v)**2) + 0.5*M*(-Derivative(r(u, v), (u, 2)) + Derivative(r(u, v), (v, 2)))*r(u, v) - 2.0*M*r(u, v)*Derivative(r(u, v), (v, 2)) - 0.5*(2*M + r(u, v))*(Derivative(r(u, v), u)**2 + Derivative(r(u, v), v)**2) + 0.25*(-Derivative(r(u, v), (u, 2)) + Derivative(r(u, v), (v, 2)))*r(u, v)**2)/M, 0, 0], [0, 0, 0, 0]], [[0, 0, 0, 0], [0, 0, 0, 0], [0, 0, -1.0*(1.0*M**3 + 0.03125*r(u, v)**2*exp(r(u, v)/(2*M))*Derivative(r(u, v), (u, 2)) - 0.03125*r(u, v)**2*exp(r(u, v)/(2*M))*Derivative(r(u, v), (v, 2)) + 0.03125*r(u, v)*exp(r(u, v)/(2*M))*Derivative(r(u, v), u)**2 - 0.03125*r(u, v)*exp(r(u, v)/(2*M))*Derivative(r(u, v), v)**2)*r(u, v)**2/M**3, 0], [0, 0, 0, 0]], [[0, 0, 0, 0], [0, 0, 0, 0], [0, 0, 0, (0.333333333333333/r(u, v)**2 + 0.015625*exp(r(u, v)/(2*M))*Derivative(r(u, v), (u, 2))/M**3 - 0.015625*exp(r(u, v)/(2*M))*Derivative(r(u, v), (v, 2))/M**3 + 0.015625*exp(r(u, v)/(2*M))*Derivative(r(u, v), u)**2/(M**3*r(u, v)) - 0.015625*exp(r(u, v)/(2*M))*Derivative(r(u, v), v)**2/(M**3*r(u, v)) - 0.00260416666666667*r(u, v)*exp(r(u, v)/(2*M))*Derivative(r(u, v), (u, 2))/M**4 + 0.00260416666666667*r(u, v)*exp(r(u, v)/(2*M))*Derivative(r(u, v), (v, 2))/M**4)*r(u, v)**4*sin(theta)**2 + (1.0*M**3 + 0.03125*r(u, v)*exp(r(u, v)/(2*M))*Derivative(r(u, v), u)**2 - 0.03125*r(u, v)*exp(r(u, v)/(2*M))*Derivative(r(u, v), v)**2)*r(u, v)**2*sin(theta)**2/M**3 - 1.0*(1.0*M**3 + 0.03125*r(u, v)**2*exp(r(u, v)/(2*M))*Derivative(r(u, v), (u, 2)) - 0.03125*r(u, v)**2*exp(r(u, v)/(2*M))*Derivative(r(u, v), (v, 2)) + 0.03125*r(u, v)*exp(r(u, v)/(2*M))*Derivative(r(u, v), u)**2 - 0.03125*r(u, v)*exp(r(u, v)/(2*M))*Derivative(r(u, v), v)**2)*r(u, v)**2*sin(theta)**2/M**3], [0, 0, -(0.333333333333333/r(u, v)**2 + 0.015625*exp(r(u, v)/(2*M))*Derivative(r(u, v), (u, 2))/M**3 - 0.015625*exp(r(u, v)/(2*M))*Derivative(r(u, v), (v, 2))/M**3 + 0.015625*exp(r(u, v)/(2*M))*Derivative(r(u, v), u)**2/(M**3*r(u, v)) - 0.015625*exp(r(u, v)/(2*M))*Derivative(r(u, v), v)**2/(M**3*r(u, v)) - 0.00260416666666667*r(u, v)*exp(r(u, v)/(2*M))*Derivative(r(u, v), (u, 2))/M**4 + 0.00260416666666667*r(u, v)*exp(r(u, v)/(2*M))*Derivative(r(u, v), (v, 2))/M**4)*r(u, v)**4*sin(theta)**2 + (-1.0*M**3 - 0.03125*r(u, v)*exp(r(u, v)/(2*M))*Derivative(r(u, v), u)**2 + 0.03125*r(u, v)*exp(r(u, v)/(2*M))*Derivative(r(u, v), v)**2)*r(u, v)**2*sin(theta)**2/M**3, 0]]], [[[0, 0, 0, 32*M**3*(0.333333333333333/r(u, v)**2 + 0.015625*exp(r(u, v)/(2*M))*Derivative(r(u, v), (u, 2))/M**3 - 0.015625*exp(r(u, v)/(2*M))*Derivative(r(u, v), (v, 2))/M**3 + 0.015625*exp(r(u, v)/(2*M))*Derivative(r(u, v), u)**2/(M**3*r(u, v)) - 0.015625*exp(r(u, v)/(2*M))*Derivative(r(u, v), v)**2/(M**3*r(u, v)) - 0.00260416666666667*r(u, v)*exp(r(u, v)/(2*M))*Derivative(r(u, v), (u, 2))/M**4 + 0.00260416666666667*r(u, v)*exp(r(u, v)/(2*M))*Derivative(r(u, v), (v, 2))/M**4)*r(u, v)*exp(-r(u, v)/(2*M))*sin(theta)**2 - 16.0*(1.0*M**3 + 0.03125*r(u, v)**2*exp(r(u, v)/(2*M))*Derivative(r(u, v), (u, 2)) - 0.03125*r(u, v)**2*exp(r(u, v)/(2*M))*Derivative(r(u, v), (v, 2)) + 0.03125*r(u, v)*exp(r(u, v)/(2*M))*Derivative(r(u, v), u)**2 - 0.03125*r(u, v)*exp(r(u, v)/(2*M))*Derivative(r(u, v), v)**2)*exp(-r(u, v)/(2*M))*sin(theta)**2/r(u, v) + (1.0*M*r(u, v)*Derivative(r(u, v), (u, 2)) + 0.25*(2*M + r(u, v))*(Derivative(r(u, v), u)**2 + Derivative(r(u, v), v)**2))*sin(theta)**2/M - 0.5*(0.5*M*(-Derivative(r(u, v), u)**2 + Derivative(r(u, v), v)**2) + 0.5*M*(Derivative(r(u, v), (u, 2)) - Derivative(r(u, v), (v, 2)))*r(u, v) - 2.0*M*r(u, v)*Derivative(r(u, v), (u, 2)) - 0.5*(2*M + r(u, v))*(Derivative(r(u, v), u)**2 + Derivative(r(u, v), v)**2) + 0.25*(Derivative(r(u, v), (u, 2)) - Derivative(r(u, v), (v, 2)))*r(u, v)**2)*sin(theta)**2/M], [0, 0, 0, -0.5*(-2.0*M*r(u, v)*Derivative(r(u, v), u, v) - 1.0*(2*M + r(u, v))*Derivative(r(u, v), u)*Derivative(r(u, v), v))*sin(theta)**2/M + (1.0*M*r(u, v)*Derivative(r(u, v), u, v) + 0.5*(2*M + r(u, v))*Derivative(r(u, v), u)*Derivative(r(u, v), v))*sin(theta)**2/M], [0, 0, 0, 0], [-32*M**3*(0.333333333333333/r(u, v)**2 + 0.015625*exp(r(u, v)/(2*M))*Derivative(r(u, v), (u, 2))/M**3 - 0.015625*exp(r(u, v)/(2*M))*Derivative(r(u, v), (v, 2))/M**3 + 0.015625*exp(r(u, v)/(2*M))*Derivative(r(u, v), u)**2/(M**3*r(u, v)) - 0.015625*exp(r(u, v)/(2*M))*Derivative(r(u, v), v)**2/(M**3*r(u, v)) - 0.00260416666666667*r(u, v)*exp(r(u, v)/(2*M))*Derivative(r(u, v), (u, 2))/M**4 + 0.00260416666666667*r(u, v)*exp(r(u, v)/(2*M))*Derivative(r(u, v), (v, 2))/M**4)*r(u, v)*exp(-r(u, v)/(2*M))*sin(theta)**2 + 16.0*(1.0*M**3 + 0.03125*r(u, v)**2*exp(r(u, v)/(2*M))*Derivative(r(u, v), (u, 2)) - 0.03125*r(u, v)**2*exp(r(u, v)/(2*M))*Derivative(r(u, v), (v, 2)) + 0.03125*r(u, v)*exp(r(u, v)/(2*M))*Derivative(r(u, v), u)**2 - 0.03125*r(u, v)*exp(r(u, v)/(2*M))*Derivative(r(u, v), v)**2)*exp(-r(u, v)/(2*M))*sin(theta)**2/r(u, v) + (-1.0*M*r(u, v)*Derivative(r(u, v), (u, 2)) + 0.25*(2*M + r(u, v))*(-Derivative(r(u, v), u)**2 - Derivative(r(u, v), v)**2))*sin(theta)**2/M - 0.5*(0.5*M*(-Derivative(r(u, v), u)**2 + Derivative(r(u, v), v)**2) + 0.5*M*(Derivative(r(u, v), (u, 2)) - Derivative(r(u, v), (v, 2)))*r(u, v) - 2.0*M*r(u, v)*Derivative(r(u, v), (u, 2)) - 0.5*(2*M + r(u, v))*(Derivative(r(u, v), u)**2 + Derivative(r(u, v), v)**2) + 0.25*(Derivative(r(u, v), (u, 2)) - Derivative(r(u, v), (v, 2)))*r(u, v)**2)*sin(theta)**2/M, -0.5*(-2.0*M*r(u, v)*Derivative(r(u, v), u, v) - 1.0*(2*M + r(u, v))*Derivative(r(u, v), u)*Derivative(r(u, v), v))*sin(theta)**2/M + (-1.0*M*r(u, v)*Derivative(r(u, v), u, v) - 0.5*(2*M + r(u, v))*Derivative(r(u, v), u)*Derivative(r(u, v), v))*sin(theta)**2/M, 0, 0]], [[0, 0, 0, -0.5*(-2.0*M*r(u, v)*Derivative(r(u, v), u, v) - 1.0*(2*M + r(u, v))*Derivative(r(u, v), u)*Derivative(r(u, v), v))*sin(theta)**2/M + (1.0*M*r(u, v)*Derivative(r(u, v), u, v) + 0.5*(2*M + r(u, v))*Derivative(r(u, v), u)*Derivative(r(u, v), v))*sin(theta)**2/M], [0, 0, 0, -32*M**3*(0.333333333333333/r(u, v)**2 + 0.015625*exp(r(u, v)/(2*M))*Derivative(r(u, v), (u, 2))/M**3 - 0.015625*exp(r(u, v)/(2*M))*Derivative(r(u, v), (v, 2))/M**3 + 0.015625*exp(r(u, v)/(2*M))*Derivative(r(u, v), u)**2/(M**3*r(u, v)) - 0.015625*exp(r(u, v)/(2*M))*Derivative(r(u, v), v)**2/(M**3*r(u, v)) - 0.00260416666666667*r(u, v)*exp(r(u, v)/(2*M))*Derivative(r(u, v), (u, 2))/M**4 + 0.00260416666666667*r(u, v)*exp(r(u, v)/(2*M))*Derivative(r(u, v), (v, 2))/M**4)*r(u, v)*exp(-r(u, v)/(2*M))*sin(theta)**2 + 16.0*(1.0*M**3 + 0.03125*r(u, v)**2*exp(r(u, v)/(2*M))*Derivative(r(u, v), (u, 2)) - 0.03125*r(u, v)**2*exp(r(u, v)/(2*M))*Derivative(r(u, v), (v, 2)) + 0.03125*r(u, v)*exp(r(u, v)/(2*M))*Derivative(r(u, v), u)**2 - 0.03125*r(u, v)*exp(r(u, v)/(2*M))*Derivative(r(u, v), v)**2)*exp(-r(u, v)/(2*M))*sin(theta)**2/r(u, v) + (1.0*M*r(u, v)*Derivative(r(u, v), (v, 2)) + 0.25*(2*M + r(u, v))*(Derivative(r(u, v), u)**2 + Derivative(r(u, v), v)**2))*sin(theta)**2/M - 0.5*(0.5*M*(Derivative(r(u, v), u)**2 - Derivative(r(u, v), v)**2) + 0.5*M*(-Derivative(r(u, v), (u, 2)) + Derivative(r(u, v), (v, 2)))*r(u, v) - 2.0*M*r(u, v)*Derivative(r(u, v), (v, 2)) - 0.5*(2*M + r(u, v))*(Derivative(r(u, v), u)**2 + Derivative(r(u, v), v)**2) + 0.25*(-Derivative(r(u, v), (u, 2)) + Derivative(r(u, v), (v, 2)))*r(u, v)**2)*sin(theta)**2/M], [0, 0, 0, 0], [-0.5*(-2.0*M*r(u, v)*Derivative(r(u, v), u, v) - 1.0*(2*M + r(u, v))*Derivative(r(u, v), u)*Derivative(r(u, v), v))*sin(theta)**2/M + (-1.0*M*r(u, v)*Derivative(r(u, v), u, v) - 0.5*(2*M + r(u, v))*Derivative(r(u, v), u)*Derivative(r(u, v), v))*sin(theta)**2/M, 32*M**3*(0.333333333333333/r(u, v)**2 + 0.015625*exp(r(u, v)/(2*M))*Derivative(r(u, v), (u, 2))/M**3 - 0.015625*exp(r(u, v)/(2*M))*Derivative(r(u, v), (v, 2))/M**3 + 0.015625*exp(r(u, v)/(2*M))*Derivative(r(u, v), u)**2/(M**3*r(u, v)) - 0.015625*exp(r(u, v)/(2*M))*Derivative(r(u, v), v)**2/(M**3*r(u, v)) - 0.00260416666666667*r(u, v)*exp(r(u, v)/(2*M))*Derivative(r(u, v), (u, 2))/M**4 + 0.00260416666666667*r(u, v)*exp(r(u, v)/(2*M))*Derivative(r(u, v), (v, 2))/M**4)*r(u, v)*exp(-r(u, v)/(2*M))*sin(theta)**2 - 16.0*(1.0*M**3 + 0.03125*r(u, v)**2*exp(r(u, v)/(2*M))*Derivative(r(u, v), (u, 2)) - 0.03125*r(u, v)**2*exp(r(u, v)/(2*M))*Derivative(r(u, v), (v, 2)) + 0.03125*r(u, v)*exp(r(u, v)/(2*M))*Derivative(r(u, v), u)**2 - 0.03125*r(u, v)*exp(r(u, v)/(2*M))*Derivative(r(u, v), v)**2)*exp(-r(u, v)/(2*M))*sin(theta)**2/r(u, v) + (-1.0*M*r(u, v)*Derivative(r(u, v), (v, 2)) + 0.25*(2*M + r(u, v))*(-Derivative(r(u, v), u)**2 - Derivative(r(u, v), v)**2))*sin(theta)**2/M - 0.5*(0.5*M*(Derivative(r(u, v), u)**2 - Derivative(r(u, v), v)**2) + 0.5*M*(-Derivative(r(u, v), (u, 2)) + Derivative(r(u, v), (v, 2)))*r(u, v) - 2.0*M*r(u, v)*Derivative(r(u, v), (v, 2)) - 0.5*(2*M + r(u, v))*(Derivative(r(u, v), u)**2 + Derivative(r(u, v), v)**2) + 0.25*(-Derivative(r(u, v), (u, 2)) + Derivative(r(u, v), (v, 2)))*r(u, v)**2)*sin(theta)**2/M, 0, 0]], [[0, 0, 0, 0], [0, 0, 0, 0], [0, 0, 0, -(0.333333333333333/r(u, v)**2 + 0.015625*exp(r(u, v)/(2*M))*Derivative(r(u, v), (u, 2))/M**3 - 0.015625*exp(r(u, v)/(2*M))*Derivative(r(u, v), (v, 2))/M**3 + 0.015625*exp(r(u, v)/(2*M))*Derivative(r(u, v), u)**2/(M**3*r(u, v)) - 0.015625*exp(r(u, v)/(2*M))*Derivative(r(u, v), v)**2/(M**3*r(u, v)) - 0.00260416666666667*r(u, v)*exp(r(u, v)/(2*M))*Derivative(r(u, v), (u, 2))/M**4 + 0.00260416666666667*r(u, v)*exp(r(u, v)/(2*M))*Derivative(r(u, v), (v, 2))/M**4)*r(u, v)**4*sin(theta)**2 + (-1.0*M**3 - 0.03125*r(u, v)*exp(r(u, v)/(2*M))*Derivative(r(u, v), u)**2 + 0.03125*r(u, v)*exp(r(u, v)/(2*M))*Derivative(r(u, v), v)**2)*r(u, v)**2*sin(theta)**2/M**3], [0, 0, (0.333333333333333/r(u, v)**2 + 0.015625*exp(r(u, v)/(2*M))*Derivative(r(u, v), (u, 2))/M**3 - 0.015625*exp(r(u, v)/(2*M))*Derivative(r(u, v), (v, 2))/M**3 + 0.015625*exp(r(u, v)/(2*M))*Derivative(r(u, v), u)**2/(M**3*r(u, v)) - 0.015625*exp(r(u, v)/(2*M))*Derivative(r(u, v), v)**2/(M**3*r(u, v)) - 0.00260416666666667*r(u, v)*exp(r(u, v)/(2*M))*Derivative(r(u, v), (u, 2))/M**4 + 0.00260416666666667*r(u, v)*exp(r(u, v)/(2*M))*Derivative(r(u, v), (v, 2))/M**4)*r(u, v)**4*sin(theta)**2 + (1.0*M**3 + 0.03125*r(u, v)*exp(r(u, v)/(2*M))*Derivative(r(u, v), u)**2 - 0.03125*r(u, v)*exp(r(u, v)/(2*M))*Derivative(r(u, v), v)**2)*r(u, v)**2*sin(theta)**2/M**3 - 1.0*(1.0*M**3 + 0.03125*r(u, v)**2*exp(r(u, v)/(2*M))*Derivative(r(u, v), (u, 2)) - 0.03125*r(u, v)**2*exp(r(u, v)/(2*M))*Derivative(r(u, v), (v, 2)) + 0.03125*r(u, v)*exp(r(u, v)/(2*M))*Derivative(r(u, v), u)**2 - 0.03125*r(u, v)*exp(r(u, v)/(2*M))*Derivative(r(u, v), v)**2)*r(u, v)**2*sin(theta)**2/M**3, 0]], [[0, 0, 0, 0], [0, 0, 0, 0], [0, 0, 0, 0], [0, 0, 0, -1.0*(1.0*M**3 + 0.03125*r(u, v)**2*exp(r(u, v)/(2*M))*Derivative(r(u, v), (u, 2)) - 0.03125*r(u, v)**2*exp(r(u, v)/(2*M))*Derivative(r(u, v), (v, 2)) + 0.03125*r(u, v)*exp(r(u, v)/(2*M))*Derivative(r(u, v), u)**2 - 0.03125*r(u, v)*exp(r(u, v)/(2*M))*Derivative(r(u, v), v)**2)*r(u, v)**2*sin(theta)**4/M**3]]]]\n"
          ]
        }
      ]
    },
    {
      "cell_type": "code",
      "source": [
        "#The complicated Kerr metric\n",
        "#Kerr metric\n",
        "\n",
        "t, r, theta, phi  = sp.symbols('t r theta phi')\n",
        "coords = [t, r, theta, phi]\n",
        "\n",
        "M = sp.Symbol('M')\n",
        "a = sp.Symbol('a')\n",
        "\n",
        "rhosq = r**2 + a**2*sp.cos(theta)**2\n",
        "Delta = r**2 - 2*M*r + a**2\n",
        "\n",
        "M = sp.Symbol('M')\n",
        "g = sp.zeros(4, 4)\n",
        "g[0, 0] = -(1-(2*M*r/rhosq))\n",
        "g[0, 3] = -(2*M*a*r*sp.sin(theta)**2)/rhosq\n",
        "g[1, 1] = (rhosq/Delta)\n",
        "g[2, 2] = rhosq\n",
        "g[3, 0] =  -(2*M*a*r*sp.sin(theta)**2)/rhosq\n",
        "g[3, 3] = (r**2 + a**2 + (2*M*a**2*r*sp.sin(theta)**2/rhosq))*sp.sin(theta)**2\n",
        "\n",
        "Gamma_result = Gamma(coords,g)\n",
        "Riemann_result = Riemann(Gamma_result,coords)\n",
        "Ricci_result = Ricci(Riemann_result)\n",
        "Ricci_scalar_result = Ricci_scalar(Ricci_result,g)\n",
        "Riemann_contra_result = Riemann_contra(g,Riemann_result)\n",
        "Riemann_cov_result = Riemann_cov(g,Riemann_result)\n",
        "Kscalar_result = Kscalar(Riemann_contra_result,Riemann_cov_result)\n",
        "weyl_tensor_result = weyl_tensor(Riemann_cov_result, Ricci_result, Ricci_scalar_result, g)\n",
        "\n",
        "#just as an example\n",
        "print(\"Metric tensor:\")\n",
        "sp.pprint(g)\n",
        "print(\"Ricci scalar:\")\n",
        "print(Ricci_scalar_result)\n",
        "print(\"Krestschmann Scalar:\")\n",
        "print(Kscalar_result)\n",
        "print(\"Weyl Tensor:\")\n",
        "print(weyl_tensor_result)"
      ],
      "metadata": {
        "id": "tvU8yPCyxFKi"
      },
      "execution_count": null,
      "outputs": []
    },
    {
      "cell_type": "code",
      "source": [],
      "metadata": {
        "id": "e1GJF-fAhfh_"
      },
      "execution_count": null,
      "outputs": []
    }
  ]
}